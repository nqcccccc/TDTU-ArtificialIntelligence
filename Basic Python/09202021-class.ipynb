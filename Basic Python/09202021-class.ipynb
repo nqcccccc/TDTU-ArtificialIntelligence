{
 "cells": [
  {
   "cell_type": "code",
   "execution_count": 64,
   "metadata": {
    "collapsed": true
   },
   "outputs": [
    {
     "ename": "TypeError",
     "evalue": "'float' object cannot be interpreted as an integer",
     "output_type": "error",
     "traceback": [
      "\u001B[0;31m---------------------------------------------------------------------------\u001B[0m",
      "\u001B[0;31mTypeError\u001B[0m                                 Traceback (most recent call last)",
      "\u001B[0;32m/var/folders/z0/__h78b812lx9bj6wb1f8_fjh0000gn/T/ipykernel_10159/1015512270.py\u001B[0m in \u001B[0;36m<module>\u001B[0;34m\u001B[0m\n\u001B[1;32m      1\u001B[0m \u001B[0;32mimport\u001B[0m \u001B[0mtenprimelib\u001B[0m\u001B[0;34m\u001B[0m\u001B[0;34m\u001B[0m\u001B[0m\n\u001B[1;32m      2\u001B[0m \u001B[0;34m\u001B[0m\u001B[0m\n\u001B[0;32m----> 3\u001B[0;31m \u001B[0mtenprimelib\u001B[0m\u001B[0;34m.\u001B[0m\u001B[0mtenPrime\u001B[0m\u001B[0;34m(\u001B[0m\u001B[0;36m100\u001B[0m\u001B[0;34m)\u001B[0m\u001B[0;34m\u001B[0m\u001B[0;34m\u001B[0m\u001B[0m\n\u001B[0m\u001B[1;32m      4\u001B[0m \u001B[0;34m\u001B[0m\u001B[0m\n\u001B[1;32m      5\u001B[0m \u001B[0;32mimport\u001B[0m \u001B[0mmath\u001B[0m\u001B[0;34m\u001B[0m\u001B[0;34m\u001B[0m\u001B[0m\n",
      "\u001B[0;32m~/Documents/TDTU/YEAR-4/HK1-2021-2022/AI/Code/Basic Python/tenprimelib.py\u001B[0m in \u001B[0;36mtenPrime\u001B[0;34m(n)\u001B[0m\n\u001B[1;32m     10\u001B[0m \u001B[0;32mdef\u001B[0m \u001B[0mtenPrime\u001B[0m\u001B[0;34m(\u001B[0m\u001B[0mn\u001B[0m\u001B[0;34m)\u001B[0m\u001B[0;34m:\u001B[0m\u001B[0;34m\u001B[0m\u001B[0;34m\u001B[0m\u001B[0m\n\u001B[1;32m     11\u001B[0m     \u001B[0mcount\u001B[0m \u001B[0;34m=\u001B[0m \u001B[0;36m0\u001B[0m\u001B[0;34m\u001B[0m\u001B[0;34m\u001B[0m\u001B[0m\n\u001B[0;32m---> 12\u001B[0;31m     \u001B[0mi\u001B[0m \u001B[0;34m=\u001B[0m \u001B[0mn\u001B[0m\u001B[0;34m\u001B[0m\u001B[0;34m\u001B[0m\u001B[0m\n\u001B[0m\u001B[1;32m     13\u001B[0m     \u001B[0ma\u001B[0m \u001B[0;34m=\u001B[0m \u001B[0;34m[\u001B[0m\u001B[0;34m]\u001B[0m\u001B[0;34m\u001B[0m\u001B[0;34m\u001B[0m\u001B[0m\n\u001B[1;32m     14\u001B[0m     \u001B[0;32mwhile\u001B[0m\u001B[0;34m(\u001B[0m\u001B[0mcount\u001B[0m \u001B[0;34m<\u001B[0m \u001B[0;36m10\u001B[0m\u001B[0;34m)\u001B[0m\u001B[0;34m:\u001B[0m\u001B[0;34m\u001B[0m\u001B[0;34m\u001B[0m\u001B[0m\n",
      "\u001B[0;31mTypeError\u001B[0m: 'float' object cannot be interpreted as an integer"
     ]
    }
   ],
   "source": [
    "import math"
   ]
  },
  {
   "cell_type": "code",
   "execution_count": 57,
   "outputs": [],
   "source": [
    "def phuongtrinhbac2(a, b, c):\n",
    "    if a == 0:\n",
    "        if b == 0:\n",
    "            if c == 0:\n",
    "                print('Phuong trinh vo so nghiem')\n",
    "                return\n",
    "            print('Phuong trinh vo nghiem')\n",
    "            return\n",
    "        print('Phuong trinh vo nghiem')\n",
    "        return\n",
    "    delta = b ** 2 - 4 * a * c\n",
    "    x1 = (-b + (delta ** 0.5)) / 2 * a\n",
    "    x2 = (-b - (delta ** 0.5)) / 2 * a\n",
    "    if delta < 0:\n",
    "        print('Phuong trinh vo nghiem')\n",
    "    if delta == 0:\n",
    "        print('Phuong trinh co nghiem kep')\n",
    "        print('x1=x2 =', x1)\n",
    "    else:\n",
    "        print('Phuong trinh co 2 nghiem phan biet')\n",
    "        print('x1 = ', x1)\n",
    "        print('x2 = ', x2)"
   ],
   "metadata": {
    "collapsed": false,
    "pycharm": {
     "name": "#%%\n"
    }
   }
  },
  {
   "cell_type": "code",
   "execution_count": 58,
   "outputs": [
    {
     "name": "stdout",
     "output_type": "stream",
     "text": [
      "Phuong trinh co 2 nghiem phan biet\n",
      "x1 =  -0.7320508075688772\n",
      "x2 =  2.732050807568877\n"
     ]
    }
   ],
   "source": [
    "a = float(input('Enter a:'))\n",
    "b = float(input('Enter b:'))\n",
    "c = float(input('Enter c:'))\n",
    "phuongtrinhbac2(a, b, c)"
   ],
   "metadata": {
    "collapsed": false,
    "pycharm": {
     "name": "#%%\n"
    }
   }
  },
  {
   "cell_type": "code",
   "execution_count": 59,
   "outputs": [],
   "source": [
    "def is_prime(n):\n",
    "    if n == 2:\n",
    "        return True\n",
    "    if n % 2 == 0 or n <= 1:\n",
    "        return False\n",
    "    sqr = int(math.sqrt(n)) + 1\n",
    "    for i in range(3, sqr, 2):\n",
    "        if n % i == 0:\n",
    "            return False\n",
    "    return True"
   ],
   "metadata": {
    "collapsed": false,
    "pycharm": {
     "name": "#%%\n"
    }
   }
  },
  {
   "cell_type": "code",
   "execution_count": 60,
   "outputs": [
    {
     "data": {
      "text/plain": "False"
     },
     "execution_count": 60,
     "metadata": {},
     "output_type": "execute_result"
    }
   ],
   "source": [
    "a = float(input('Enter a number'))\n",
    "is_prime(a)"
   ],
   "metadata": {
    "collapsed": false,
    "pycharm": {
     "name": "#%%\n"
    }
   }
  },
  {
   "cell_type": "code",
   "execution_count": 61,
   "outputs": [],
   "source": [
    "def allPrime(start, end):\n",
    "    for i in range(start, end + 1):\n",
    "        if i > 1:\n",
    "            for j in range(2, i):\n",
    "                if i % j == 0:\n",
    "                    break\n",
    "            else:\n",
    "                print(i, end=' ')"
   ],
   "metadata": {
    "collapsed": false,
    "pycharm": {
     "name": "#%%\n"
    }
   }
  },
  {
   "cell_type": "code",
   "execution_count": 62,
   "outputs": [
    {
     "name": "stdout",
     "output_type": "stream",
     "text": [
      "2 3 5 7 11 13 17 19 23 29 31 37 41 43 47 53 59 61 67 71 73 79 83 89 97 "
     ]
    }
   ],
   "source": [
    "allPrime(1, 100)\n"
   ],
   "metadata": {
    "collapsed": false,
    "pycharm": {
     "name": "#%%\n"
    }
   }
  }
 ],
 "metadata": {
  "kernelspec": {
   "display_name": "Python 3",
   "language": "python",
   "name": "python3"
  },
  "language_info": {
   "codemirror_mode": {
    "name": "ipython",
    "version": 2
   },
   "file_extension": ".py",
   "mimetype": "text/x-python",
   "name": "python",
   "nbconvert_exporter": "python",
   "pygments_lexer": "ipython2",
   "version": "2.7.6"
  }
 },
 "nbformat": 4,
 "nbformat_minor": 0
}