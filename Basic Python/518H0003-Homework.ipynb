{
 "cells": [
  {
   "cell_type": "code",
   "execution_count": 5,
   "metadata": {
    "collapsed": true
   },
   "outputs": [],
   "source": [
    "import numpy as np\n",
    "import pandas as pd\n",
    "import json\n",
    "import os"
   ]
  },
  {
   "cell_type": "code",
   "execution_count": 6,
   "outputs": [],
   "source": [
    "# Ex1\n",
    "path = '/Users/quoccuongnguyen/Documents/TDTU/YEAR-4/HK1-2021-2022/Massive-Data/Code/Chapter1-MiningData/Demo'\n",
    "\n",
    "files = os.listdir(path)\n",
    "txtArr = []\n",
    "\n",
    "for i in files:\n",
    "    file = open(os.path.join(path, i), 'r')\n",
    "    file = file.read().split(' ')\n",
    "    for c in file:\n",
    "        txtArr.append(c)\n",
    "\n",
    "series = pd.Series(txtArr)\n",
    "\n",
    "with open('Output.txt', 'w+') as f:\n",
    "    for i in range(len(series.value_counts())):\n",
    "        f.write(f'{series.value_counts().index[i]}:\\t\\t{series.value_counts()[i]}\\n')"
   ],
   "metadata": {
    "collapsed": false,
    "pycharm": {
     "name": "#%%\n"
    }
   }
  },
  {
   "cell_type": "code",
   "execution_count": 7,
   "outputs": [
    {
     "name": "stdout",
     "output_type": "stream",
     "text": [
      "deque(['Nguyen', 'Quoc', 'Cuong'])\n"
     ]
    }
   ],
   "source": [
    "#Ex 2:\n",
    "from collections import deque\n",
    "\n",
    "queue = deque(['Nguyen','Quoc','Cuong'])\n",
    "print(queue)"
   ],
   "metadata": {
    "collapsed": false,
    "pycharm": {
     "name": "#%%\n"
    }
   }
  },
  {
   "cell_type": "code",
   "execution_count": 9,
   "outputs": [
    {
     "name": "stdout",
     "output_type": "stream",
     "text": [
      "Cuong\n"
     ]
    }
   ],
   "source": [
    "#Ex 3:\n",
    "\n",
    "from queue import LifoQueue\n",
    "stack = LifoQueue(maxsize = 3)\n",
    "stack.put('Nguyen')\n",
    "stack.put('Quoc')\n",
    "stack.put('Cuong')\n",
    "\n",
    "print(stack.get())"
   ],
   "metadata": {
    "collapsed": false,
    "pycharm": {
     "name": "#%%\n"
    }
   }
  },
  {
   "cell_type": "code",
   "execution_count": 11,
   "outputs": [
    {
     "name": "stdout",
     "output_type": "stream",
     "text": [
      "9\n",
      "7\n"
     ]
    }
   ],
   "source": [
    "#Ex 4:\n",
    "\n",
    "class Stack:\n",
    "    def __init__(self):\n",
    "        self.items=[]\n",
    "    def push (self,item):\n",
    "        self.items.append(item)\n",
    "    def pop (self):\n",
    "        return self.items.pop()\n",
    "    def size(self):\n",
    "        return len(self.items)\n",
    "    def isEmpty(self):\n",
    "        return self.size == 0\n",
    "    def top(self):\n",
    "        return self.items[-1]\n",
    "\n",
    "\n",
    "st = Stack()\n",
    "st.push(5)\n",
    "st.push(7)\n",
    "st.push(9)\n",
    "print(st.pop())\n",
    "print(st.top())"
   ],
   "metadata": {
    "collapsed": false,
    "pycharm": {
     "name": "#%%\n"
    }
   }
  },
  {
   "cell_type": "code",
   "execution_count": 13,
   "outputs": [
    {
     "name": "stdout",
     "output_type": "stream",
     "text": [
      "5\n",
      "7\n"
     ]
    }
   ],
   "source": [
    "# Ex 5:\n",
    "\n",
    "class Queue:\n",
    "    def __init__(self):\n",
    "        self.items = []\n",
    "    def enqueue(self, item):\n",
    "        self.items.append(item)\n",
    "        return item\n",
    "    def dequeue(self):\n",
    "        return self.items.pop(0)\n",
    "    def size(self):\n",
    "        return len(self.items)\n",
    "    def is_empty(self):\n",
    "        return self.size == 0\n",
    "    def front(self):\n",
    "        return self.items[0]\n",
    "    def rear(self):\n",
    "        return self.items[-1]\n",
    "\n",
    "q = Queue()\n",
    "q.enqueue(5)\n",
    "q.enqueue (7)\n",
    "q.enqueue (9)\n",
    "print(q.dequeue())\n",
    "print(q.front())"
   ],
   "metadata": {
    "collapsed": false,
    "pycharm": {
     "name": "#%%\n"
    }
   }
  },
  {
   "cell_type": "code",
   "execution_count": 20,
   "outputs": [
    {
     "name": "stdout",
     "output_type": "stream",
     "text": [
      "maam  - is parlindrome\n"
     ]
    }
   ],
   "source": [
    "# Ex 6:\n",
    "\n",
    "st = Stack()\n",
    "str = input('Please enter the string: ')\n",
    "\n",
    "for character in str:\n",
    "    st.push(character)\n",
    "\n",
    "rev = ''\n",
    "while st.size() != 0:\n",
    "    rev = rev + st.pop()\n",
    "\n",
    "if rev == str:\n",
    "    print(str,' - is parlindrome')\n",
    "else:\n",
    "    print(str,' - is not parlindrome')\n"
   ],
   "metadata": {
    "collapsed": false,
    "pycharm": {
     "name": "#%%\n"
    }
   }
  },
  {
   "cell_type": "code",
   "execution_count": null,
   "outputs": [],
   "source": [],
   "metadata": {
    "collapsed": false,
    "pycharm": {
     "name": "#%%\n"
    }
   }
  }
 ],
 "metadata": {
  "kernelspec": {
   "display_name": "Python 3",
   "language": "python",
   "name": "python3"
  },
  "language_info": {
   "codemirror_mode": {
    "name": "ipython",
    "version": 2
   },
   "file_extension": ".py",
   "mimetype": "text/x-python",
   "name": "python",
   "nbconvert_exporter": "python",
   "pygments_lexer": "ipython2",
   "version": "2.7.6"
  }
 },
 "nbformat": 4,
 "nbformat_minor": 0
}