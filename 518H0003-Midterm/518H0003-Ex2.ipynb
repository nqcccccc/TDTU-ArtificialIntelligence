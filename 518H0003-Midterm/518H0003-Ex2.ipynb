{
 "cells": [
  {
   "cell_type": "code",
   "execution_count": null,
   "outputs": [],
   "source": [
    "%%time\n",
    "class MyPriorityQueue(object):\n",
    "\n",
    "    def __init__(self):\n",
    "        self.queue = []\n",
    "\n",
    "    def __str__(self):\n",
    "        return ' '.join([str(i) for i in self.queue])\n",
    "\n",
    "    def isEmpty(self):\n",
    "        return len(self.queue) == 0\n",
    "\n",
    "    def add(self, data):\n",
    "        self.queue.append(data)\n",
    "\n",
    "    def pop(self):\n",
    "        max = 0\n",
    "        for i in range(len(self.queue)):\n",
    "            if self.queue[i] < self.queue[max]:\n",
    "                max = i\n",
    "        item = self.queue[max]\n",
    "        del self.queue[max]\n",
    "        return item\n",
    "\n",
    "    def is_in(self, data):\n",
    "        for i in range(len(self.queue)):\n",
    "            if data in self.queue[i]:\n",
    "                return self.queue[i]\n",
    "        return 0\n",
    "\n",
    "    def replace(self, old, new):\n",
    "        item = self.queue.index(old)\n",
    "        del self.queue[item]\n",
    "        self.queue.append(new)\n",
    "\n",
    "    def delete(self, data):\n",
    "        item = self.queue.index(data)\n",
    "        del self.queue[item]"
   ],
   "metadata": {
    "collapsed": false,
    "pycharm": {
     "name": "#%%\n"
    }
   }
  },
  {
   "cell_type": "code",
   "execution_count": 58,
   "outputs": [
    {
     "name": "stdout",
     "output_type": "stream",
     "text": [
      "CPU times: user 4 µs, sys: 2 µs, total: 6 µs\n",
      "Wall time: 8.82 µs\n"
     ]
    }
   ],
   "source": [
    "%%time\n",
    "\n",
    "def greedy_best_first_search(data, heuristic, start):\n",
    "    if not data or not start:\n",
    "        return 0\n",
    "    queue = []\n",
    "    path = []\n",
    "    destination = 'Bucharest'\n",
    "\n",
    "    queue.append(start)\n",
    "\n",
    "    while queue:\n",
    "        current = queue.pop(0)\n",
    "        path.append(current)\n",
    "        if current == destination:\n",
    "            return path\n",
    "        else:\n",
    "            pd = MyPriorityQueue()\n",
    "            for i in data[current]:\n",
    "                pd.add((heuristic[i[0]], i[0]))\n",
    "            queue.append(pd.pop()[1])"
   ],
   "metadata": {
    "collapsed": false,
    "pycharm": {
     "name": "#%%\n"
    }
   }
  },
  {
   "cell_type": "code",
   "execution_count": 59,
   "outputs": [
    {
     "name": "stdout",
     "output_type": "stream",
     "text": [
      "CPU times: user 5 µs, sys: 0 ns, total: 5 µs\n",
      "Wall time: 7.87 µs\n"
     ]
    }
   ],
   "source": [
    "%%time\n",
    "def astart(data, heuristic, start):\n",
    "    if not data or not start:\n",
    "        return 0\n",
    "\n",
    "    destination = 'Bucharest'\n",
    "    open = MyPriorityQueue()\n",
    "    close = MyPriorityQueue()\n",
    "    g = {}\n",
    "    prev = {}\n",
    "\n",
    "    g[start] = 0\n",
    "    open.add((0, start))\n",
    "\n",
    "    while not open.isEmpty():\n",
    "        p = open.pop()\n",
    "        close.add(p)\n",
    "\n",
    "        if p[1] == destination:\n",
    "            finalpath = []\n",
    "            i = destination\n",
    "\n",
    "            while (prev.get(i) != None):\n",
    "                finalpath.append(i)\n",
    "                i = prev[i]\n",
    "            finalpath.append(start)\n",
    "            finalpath.reverse()\n",
    "\n",
    "            return finalpath\n",
    "\n",
    "        for q in data[p[1]]:\n",
    "\n",
    "            if open.is_in(q[0]) == close.is_in(q[0]) == 0:\n",
    "                g[q[0]] = g[p[1]] + q[1]\n",
    "                prev[q[0]] = p[1]\n",
    "                f = g[q[0]] + heuristic[q[0]]\n",
    "\n",
    "                open.add((f, q[0]))\n",
    "\n",
    "            if open.is_in(q[0]):\n",
    "                c_open = open.is_in(q[0])\n",
    "\n",
    "                if g[q[0]] > g[p[1]] + q[1]:\n",
    "                    g[q[0]] = g[p[1]] + q[1]\n",
    "                    prev[q[0]] = p[1]\n",
    "                    f = g[q[0]] + heuristic[q[0]]\n",
    "\n",
    "                    open.replace(c_open, (f, q[0]))\n",
    "\n",
    "            if close.is_in(q[0]):\n",
    "                c_close = close.is_in(q[0])\n",
    "\n",
    "                if g[q[0]] > g[p[1]] + q[1]:\n",
    "                    close.delete(c_close)\n",
    "\n",
    "                    if open.is_in(c_close[0][1]):\n",
    "                        c_open = open.is_in(c_close[0][1])\n",
    "                        open.replace(c_open, c_close)\n",
    "                    else:\n",
    "                        open.add(c_close)"
   ],
   "metadata": {
    "collapsed": false,
    "pycharm": {
     "name": "#%%\n"
    }
   }
  },
  {
   "cell_type": "code",
   "execution_count": 60,
   "outputs": [],
   "source": [
    "romania_map = {\n",
    "    'Arad': [('Sibiu', 140), ('Zerind', 75), ('Timisoara', 118)],\n",
    "    'Zerind': [('Arad', 75), ('Oradea', 71)],\n",
    "    'Oradea': [('Zerind', 71), ('Sibiu', 151)],\n",
    "    'Sibiu': [('Arad', 140), ('Oradea', 151), ('Fagaras', 99), ('Rimnicu', 80)],\n",
    "    'Timisoara': [('Arad', 118), ('Lugoj', 111)],\n",
    "    'Lugoj': [('Timisoara', 111), ('Mehadia', 70)],\n",
    "    'Mehadia': [('Lugoj', 70), ('Drobeta', 75)],\n",
    "    'Drobeta': [('Mehadia', 75), ('Craiova', 120)],\n",
    "    'Craiova': [('Drobeta', 120), ('Rimnicu', 146), ('Pitesti', 138)],\n",
    "    'Rimnicu': [('Sibiu', 80), ('Craiova', 146), ('Pitesti', 97)],\n",
    "    'Fagaras': [('Sibiu', 99), ('Bucharest', 211)],\n",
    "    'Pitesti': [('Rimnicu', 97), ('Craiova', 138), ('Bucharest', 101)],\n",
    "    'Bucharest': [('Fagaras', 211), ('Pitesti', 101), ('Giurgiu', 90), ('Urziceni', 85)],\n",
    "    'Giurgiu': [('Bucharest', 90)],\n",
    "    'Urziceni': [('Bucharest', 85), ('Vaslui', 142), ('Hirsova', 98)],\n",
    "    'Hirsova': [('Urziceni', 98), ('Eforie', 86)],\n",
    "    'Eforie': [('Hirsova', 86)],\n",
    "    'Vaslui': [('Iasi', 92), ('Urziceni', 142)],\n",
    "    'Iasi': [('Vaslui', 92), ('Neamt', 87)],\n",
    "    'Neamt': [('Iasi', 87)]\n",
    "}\n",
    "\n",
    "romania_distance = {\n",
    "    'Arad': 366,\n",
    "    'Bucharest': 0,\n",
    "    'Craiova': 160,\n",
    "    'Drobeta': 242,\n",
    "    'Eforie': 161,\n",
    "    'Fagaras': 176,\n",
    "    'Giurgiu': 77,\n",
    "    'Hirsova': 151,\n",
    "    'Iasi': 226,\n",
    "    'Lugoj': 224,\n",
    "    'Mehadia': 241,\n",
    "    'Neamt': 234,\n",
    "    'Oradea': 380,\n",
    "    'Pitesti': 100,\n",
    "    'Rimnicu': 193,\n",
    "    'Sibiu': 253,\n",
    "    'Timisoara': 329,\n",
    "    'Urziceni': 80,\n",
    "    'Vaslui': 199,\n",
    "    'Zerind': 374\n",
    "}"
   ],
   "metadata": {
    "collapsed": false,
    "pycharm": {
     "name": "#%%\n"
    }
   }
  },
  {
   "cell_type": "code",
   "execution_count": 64,
   "outputs": [
    {
     "name": "stdout",
     "output_type": "stream",
     "text": [
      "Path from Arad to Bucharest using Greedy Best First Search algorithm\n",
      "\t ['Arad', 'Sibiu', 'Fagaras', 'Bucharest']\n",
      "CPU times: user 444 µs, sys: 166 µs, total: 610 µs\n",
      "Wall time: 605 µs\n"
     ]
    }
   ],
   "source": [
    "%%time\n",
    "\n",
    "print('Path from Arad to Bucharest using Greedy Best First Search algorithm\\n\\t',\n",
    "      greedy_best_first_search(romania_map, romania_distance, 'Arad'))"
   ],
   "metadata": {
    "collapsed": false,
    "pycharm": {
     "name": "#%%\n"
    }
   }
  },
  {
   "cell_type": "code",
   "execution_count": 65,
   "outputs": [
    {
     "name": "stdout",
     "output_type": "stream",
     "text": [
      "Path from Arad to Bucharest using A* algorithm \n",
      "\t ['Arad', 'Sibiu', 'Rimnicu', 'Pitesti', 'Bucharest']\n",
      "CPU times: user 553 µs, sys: 148 µs, total: 701 µs\n",
      "Wall time: 614 µs\n"
     ]
    }
   ],
   "source": [
    "%%time\n",
    "print('Path from Arad to Bucharest using A* algorithm \\n\\t',\n",
    "      astart(romania_map, romania_distance, 'Arad'))"
   ],
   "metadata": {
    "collapsed": false,
    "pycharm": {
     "name": "#%%\n"
    }
   }
  },
  {
   "cell_type": "code",
   "execution_count": null,
   "outputs": [],
   "source": [],
   "metadata": {
    "collapsed": false,
    "pycharm": {
     "name": "#%%\n"
    }
   }
  }
 ],
 "metadata": {
  "kernelspec": {
   "display_name": "Python 3",
   "language": "python",
   "name": "python3"
  },
  "language_info": {
   "codemirror_mode": {
    "name": "ipython",
    "version": 2
   },
   "file_extension": ".py",
   "mimetype": "text/x-python",
   "name": "python",
   "nbconvert_exporter": "python",
   "pygments_lexer": "ipython2",
   "version": "2.7.6"
  }
 },
 "nbformat": 4,
 "nbformat_minor": 0
}