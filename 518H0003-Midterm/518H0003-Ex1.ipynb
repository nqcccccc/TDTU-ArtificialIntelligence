{
 "cells": [
  {
   "cell_type": "code",
   "execution_count": 29,
   "outputs": [],
   "source": [
    "import copy\n",
    "from queue import PriorityQueue\n",
    "\n",
    "from math import sqrt"
   ],
   "metadata": {
    "collapsed": false,
    "pycharm": {
     "name": "#%%\n"
    }
   }
  },
  {
   "cell_type": "code",
   "source": [
    "%%time\n",
    "\n",
    "def BFS(data):\n",
    "    if not data:\n",
    "        return 0\n",
    "\n",
    "    row = len(data)\n",
    "    col = len(data[0])\n",
    "\n",
    "    directions = [(-1, -1),  #top-left\n",
    "                  (-1, 0),  #top\n",
    "                  (-1, 1),  #top-right\n",
    "                  (0, 1),  #right\n",
    "                  (1, 1),  #bottom-right\n",
    "                  (1, 0),  #bottom\n",
    "                  (1, -1),  #bottom-left\n",
    "                  (0, -1)]  #left\n",
    "    count = 0\n",
    "    queue = []\n",
    "\n",
    "    for i in range(row):\n",
    "        for j in range(col):\n",
    "            if data[i][j] == 1:\n",
    "                count += 1\n",
    "\n",
    "                queue.append((i, j))\n",
    "                data[i][j] = 0\n",
    "\n",
    "                while queue:\n",
    "                    curr = queue.pop(0)\n",
    "\n",
    "                    for dir in directions:\n",
    "                        row_curr = curr[0] + dir[0]\n",
    "                        col_curr = curr[1] + dir[1]\n",
    "\n",
    "                        if 0 <= col_curr < col and 0 <= row_curr < row:\n",
    "                            if data[row_curr][col_curr] == 1:\n",
    "                                queue.append((row_curr, col_curr))\n",
    "                                data[row_curr][col_curr] = 0\n",
    "\n",
    "    return count"
   ],
   "metadata": {
    "collapsed": false,
    "pycharm": {
     "name": "#%%\n"
    }
   },
   "execution_count": 30,
   "outputs": [
    {
     "name": "stdout",
     "output_type": "stream",
     "text": [
      "CPU times: user 6 µs, sys: 1 µs, total: 7 µs\n",
      "Wall time: 11 µs\n"
     ]
    }
   ]
  },
  {
   "cell_type": "code",
   "execution_count": 31,
   "outputs": [
    {
     "name": "stdout",
     "output_type": "stream",
     "text": [
      "CPU times: user 5 µs, sys: 0 ns, total: 5 µs\n",
      "Wall time: 7.87 µs\n"
     ]
    }
   ],
   "source": [
    "%%time\n",
    "\n",
    "def UCS(data):\n",
    "    if not data:\n",
    "        return 0\n",
    "\n",
    "    row = len(data)\n",
    "    col = len(data[0])\n",
    "\n",
    "    count = 0\n",
    "    queue = []\n",
    "\n",
    "    for i in range(row):\n",
    "        for j in range(col):\n",
    "            if data[i][j] == 1:\n",
    "                count += 1\n",
    "\n",
    "                queue.append((i, j))\n",
    "                data[i][j] = 0\n",
    "\n",
    "                while queue:\n",
    "                    curr = queue.pop(0)\n",
    "\n",
    "                    dir = PriorityQueue()\n",
    "                    dir.put((1,(-1+curr[0], 0+curr[1])))\n",
    "                    dir.put((1,(0+curr[0], 1+curr[1])))\n",
    "                    dir.put((1,(1+curr[0], 0+curr[1])))\n",
    "                    dir.put((1,(0+curr[0], -1+curr[1])))\n",
    "                    dir.put((sqrt(2),(-1+curr[0], -1+curr[1])))\n",
    "                    dir.put((sqrt(2),(-1+curr[0], 1+curr[1])))\n",
    "                    dir.put((sqrt(2),(1+curr[0], 1+curr[1])))\n",
    "                    dir.put((sqrt(2),(1+curr[0], -1+curr[1])))\n",
    "\n",
    "                    for d in range(dir.qsize()):\n",
    "                        temp = dir.get()\n",
    "\n",
    "                        if 0 <= temp[1][1] < col and 0 <= temp[1][0] < row:\n",
    "                            if data[temp[1][0]][temp[1][1]] == 1:\n",
    "                                queue.append((temp[1][0], temp[1][1]))\n",
    "                                data[temp[1][0]][temp[1][1]] = 0\n",
    "\n",
    "    return count"
   ],
   "metadata": {
    "collapsed": false,
    "pycharm": {
     "name": "#%%\n"
    }
   }
  },
  {
   "cell_type": "code",
   "execution_count": 32,
   "outputs": [
    {
     "name": "stdout",
     "output_type": "stream",
     "text": [
      "Map:\n",
      "1 0 1 0 0 0 1 1 1 1 \n",
      "0 0 1 0 0 0 1 0 0 0 \n",
      "1 1 1 1 0 0 1 0 0 0 \n",
      "1 0 0 1 0 1 0 0 0 0 \n",
      "1 1 1 1 0 0 0 1 1 1 \n",
      "0 1 0 1 0 0 1 1 1 1 \n",
      "0 0 0 0 0 1 1 1 0 0 \n",
      "0 0 0 1 0 0 1 1 1 0 \n",
      "1 0 1 0 1 0 0 1 0 0 \n",
      "1 1 1 1 0 0 0 1 1 1 \n",
      "CPU times: user 4.1 ms, sys: 3.41 ms, total: 7.51 ms\n",
      "Wall time: 5.36 ms\n"
     ]
    }
   ],
   "source": [
    "%%time\n",
    "map = [[1, 0, 1, 0, 0, 0, 1, 1, 1, 1],\n",
    "       [0, 0, 1, 0, 0, 0, 1, 0, 0, 0],\n",
    "       [1, 1, 1, 1, 0, 0, 1, 0, 0, 0],\n",
    "       [1, 0, 0, 1, 0, 1, 0, 0, 0, 0],\n",
    "       [1, 1, 1, 1, 0, 0, 0, 1, 1, 1],\n",
    "       [0, 1, 0, 1, 0, 0, 1, 1, 1, 1],\n",
    "       [0, 0, 0, 0, 0, 1, 1, 1, 0, 0],\n",
    "       [0, 0, 0, 1, 0, 0, 1, 1, 1, 0],\n",
    "       [1, 0, 1, 0, 1, 0, 0, 1, 0, 0],\n",
    "       [1, 1, 1, 1, 0, 0, 0, 1, 1, 1]]\n",
    "\n",
    "print('Map:')\n",
    "for i in range(len(map)):\n",
    "    for j in range(len(map[0])):\n",
    "        print(map[i][j], end=' ')\n",
    "    print()\n"
   ],
   "metadata": {
    "collapsed": false,
    "pycharm": {
     "name": "#%%\n"
    }
   }
  },
  {
   "cell_type": "code",
   "execution_count": 33,
   "outputs": [
    {
     "name": "stdout",
     "output_type": "stream",
     "text": [
      "\n",
      "Number of island(s) in map BFS: 5\n",
      "CPU times: user 563 µs, sys: 176 µs, total: 739 µs\n",
      "Wall time: 688 µs\n"
     ]
    }
   ],
   "source": [
    "%%time\n",
    "print('\\nNumber of island(s) in map BFS:', BFS(copy.deepcopy(map)))"
   ],
   "metadata": {
    "collapsed": false,
    "pycharm": {
     "name": "#%%\n"
    }
   }
  },
  {
   "cell_type": "code",
   "execution_count": 34,
   "outputs": [
    {
     "name": "stdout",
     "output_type": "stream",
     "text": [
      "\n",
      "Number of island(s) in map using UCS: 5\n",
      "CPU times: user 2.88 ms, sys: 254 µs, total: 3.14 ms\n",
      "Wall time: 3.13 ms\n"
     ]
    }
   ],
   "source": [
    "%%time\n",
    "print('\\nNumber of island(s) in map using UCS:', UCS(copy.deepcopy(map)))"
   ],
   "metadata": {
    "collapsed": false,
    "pycharm": {
     "name": "#%%\n"
    }
   }
  },
  {
   "cell_type": "code",
   "execution_count": 4,
   "outputs": [
    {
     "data": {
      "text/plain": "(-1, 0)"
     },
     "execution_count": 4,
     "metadata": {},
     "output_type": "execute_result"
    }
   ],
   "source": [
    "\n"
   ],
   "metadata": {
    "collapsed": false,
    "pycharm": {
     "name": "#%%\n"
    }
   }
  }
 ],
 "metadata": {
  "kernelspec": {
   "name": "python3",
   "language": "python",
   "display_name": "Python 3"
  },
  "language_info": {
   "codemirror_mode": {
    "name": "ipython",
    "version": 2
   },
   "file_extension": ".py",
   "mimetype": "text/x-python",
   "name": "python",
   "nbconvert_exporter": "python",
   "pygments_lexer": "ipython2",
   "version": "2.7.6"
  }
 },
 "nbformat": 4,
 "nbformat_minor": 0
}