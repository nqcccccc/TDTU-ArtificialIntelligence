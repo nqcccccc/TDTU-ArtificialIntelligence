{
 "cells": [
  {
   "cell_type": "code",
   "execution_count": 2,
   "outputs": [],
   "source": [
    "class Node:\n",
    "    def __init__(self, data):\n",
    "        self.data = data\n",
    "        self.left = None\n",
    "        self.right = None\n",
    "\n",
    "\n",
    "root = Node(1)\n",
    "root.left = Node(2)\n",
    "root.right = Node(3)\n",
    "root.left.left = Node(4)\n",
    "root.left.right = Node(5)\n",
    "root.right.left = Node(6)\n",
    "root.right.right = Node(7)\n",
    "root.left.left.left = Node(8)\n",
    "root.left.left.right = Node(9)\n",
    "root.left.right.left = Node(10)\n",
    "root.left.right.right = Node(11)"
   ],
   "metadata": {
    "collapsed": false,
    "pycharm": {
     "name": "#%%\n"
    }
   }
  },
  {
   "cell_type": "code",
   "execution_count": 60,
   "outputs": [
    {
     "name": "stdout",
     "output_type": "stream",
     "text": [
      "1 2 3 4 5 6 7 8 9 10 11 "
     ]
    }
   ],
   "source": [
    "#BFT using recursive\n",
    "def height(root):\n",
    "    if root is None:\n",
    "        return 0\n",
    "    leftAns = height(root.left)\n",
    "    rightAns = height(root.right)\n",
    "\n",
    "    return max(leftAns, rightAns) + 1\n",
    "\n",
    "\n",
    "def printNodesAtLevel(root, currentLevel, level):\n",
    "    if root is None:\n",
    "        return\n",
    "\n",
    "    if (currentLevel == level):\n",
    "        print(root.data, end=' ')\n",
    "        return\n",
    "\n",
    "    printNodesAtLevel(root.left, currentLevel + 1, level)\n",
    "    printNodesAtLevel(root.right, currentLevel + 1, level)\n",
    "\n",
    "\n",
    "def bft(root, height):\n",
    "    for i in range(0, height):\n",
    "        printNodesAtLevel(root, 0, i)\n",
    "\n",
    "\n",
    "bft(root, height(root))"
   ],
   "metadata": {
    "collapsed": false,
    "pycharm": {
     "name": "#%%\n"
    }
   }
  },
  {
   "cell_type": "code",
   "execution_count": 4,
   "outputs": [
    {
     "name": "stdout",
     "output_type": "stream",
     "text": [
      "1 2 4 8 9 5 10 11 3 6 7 "
     ]
    }
   ],
   "source": [
    "from collections import deque\n",
    "\n",
    "\n",
    "#NLR using stack\n",
    "def NLR(root):\n",
    "    if root is None:\n",
    "        return\n",
    "\n",
    "    stack = deque()\n",
    "    stack.append(root)\n",
    "\n",
    "    node = root\n",
    "\n",
    "    while stack:\n",
    "        # traversal all node from left\n",
    "        # if have node.right append to stack\n",
    "        # else loop process\n",
    "        # while node.left is none -> pop node.right from stack\n",
    "        if node:\n",
    "            print(node.data, end=' ')\n",
    "\n",
    "            if node.right:\n",
    "                stack.append(node.right)\n",
    "\n",
    "            node = node.left\n",
    "        else:\n",
    "            node = stack.pop()\n",
    "\n",
    "\n",
    "NLR(root)"
   ],
   "metadata": {
    "collapsed": false,
    "pycharm": {
     "name": "#%%\n"
    }
   }
  },
  {
   "cell_type": "code",
   "execution_count": 11,
   "outputs": [
    {
     "name": "stdout",
     "output_type": "stream",
     "text": [
      "deque([<__main__.Node object at 0x10eba9040>])\n",
      "1 2 3 4 5 6 7 8 9 10 11 "
     ]
    }
   ],
   "source": [
    "# BFT using queue\n",
    "def bft_queue(root):\n",
    "    if root is None:\n",
    "        return\n",
    "    queue = deque()\n",
    "    queue.append(root)\n",
    "    print(queue)\n",
    "\n",
    "    while queue:\n",
    "        node = queue.popleft()\n",
    "        print(node.data,end=' ')\n",
    "\n",
    "        if node.left:\n",
    "            queue.append(node.left)\n",
    "\n",
    "        if node.right:\n",
    "            queue.append(node.right)\n",
    "\n",
    "bft_queue(root)"
   ],
   "metadata": {
    "collapsed": false,
    "pycharm": {
     "name": "#%%\n"
    }
   }
  },
  {
   "cell_type": "code",
   "execution_count": null,
   "outputs": [],
   "source": [],
   "metadata": {
    "collapsed": false,
    "pycharm": {
     "name": "#%%\n"
    }
   }
  }
 ],
 "metadata": {
  "kernelspec": {
   "display_name": "Python 3",
   "language": "python",
   "name": "python3"
  },
  "language_info": {
   "codemirror_mode": {
    "name": "ipython",
    "version": 2
   },
   "file_extension": ".py",
   "mimetype": "text/x-python",
   "name": "python",
   "nbconvert_exporter": "python",
   "pygments_lexer": "ipython2",
   "version": "2.7.6"
  }
 },
 "nbformat": 4,
 "nbformat_minor": 0
}