{
 "cells": [
  {
   "cell_type": "code",
   "execution_count": 1,
   "metadata": {
    "collapsed": true
   },
   "outputs": [
    {
     "data": {
      "text/plain": "'\\n1- BFT đệ quy\\n2- NLR không đệ quy\\n4- BFT không đệ quy\\n5- UCS\\n'"
     },
     "execution_count": 1,
     "metadata": {},
     "output_type": "execute_result"
    }
   ],
   "source": [
    "class Node:\n",
    "    def __init__(self, el):\n",
    "        self.infor = el\n",
    "        self.left = None\n",
    "        self.right = None\n",
    "\n",
    "\n",
    "class BST:\n",
    "    def __init__(self):\n",
    "        self.root = None\n",
    "\n",
    "    def isEmpty(self):\n",
    "        return self.root == None\n",
    "\n",
    "    def insert(self, el):\n",
    "        # So sánh giá trị mới với tmp\n",
    "        if self.el:\n",
    "            if el < self.el:\n",
    "                if self.left is None:\n",
    "                    self.left = Node(el)\n",
    "                else:\n",
    "                    self.left.insert(el)\n",
    "            elif (el > self.el):\n",
    "                if self.right is None:\n",
    "                    self.right = Node(el)\n",
    "                else:\n",
    "                    self.right.insert(el)\n",
    "        else:\n",
    "            self.el = el\n",
    "\n",
    "'''\n",
    "1- BFT đệ quy\n",
    "2- NLR không đệ quy\n",
    "4- BFT không đệ quy\n",
    "5- UCS\n",
    "'''"
   ]
  },
  {
   "cell_type": "code",
   "execution_count": 1,
   "outputs": [],
   "source": [
    "class Node:\n",
    "   def __init__(self, data):\n",
    "      self.left = None\n",
    "      self.right = None\n",
    "      self.data = data\n",
    "\n",
    "\n",
    "   def PrintTree(self):\n",
    "      print(self.data)\n",
    "\n",
    "\n",
    "class BST:\n",
    "  def __init__(self):\n",
    "    self.root = None\n",
    "\n",
    "\n",
    "  def isEmpty(self):\n",
    "    return self.root == None\n",
    "\n",
    "\n",
    "  def add(self, data):\n",
    "    p = Node(data)\n",
    "    if self.isEmpty():\n",
    "      self.root = p\n",
    "    else:\n",
    "      tmp = self.root\n",
    "      pre = None\n",
    "      while tmp is not None:\n",
    "        pre = tmp\n",
    "        if tmp.data < data:\n",
    "          tmp = tmp\n",
    "  def add(self, data):\n",
    "    p = Node(data)\n",
    "    if self.isEmpty():\n",
    "      self.root = p\n",
    "    else:\n",
    "      tmp = self.root\n",
    "      pre = None\n",
    "      while tmp is not None:\n",
    "        pre = tmp\n",
    "        if tmp.data < data:\n",
    "          tmp = tmp.right\n",
    "        else:\n",
    "          tmp = tmp.left\n",
    "      if pre.data < data:\n",
    "        pre.right = p\n",
    "      else:\n",
    "        pre.left = p\n",
    "if __name__ == \"__main__\":\n",
    "    bst = BST()\n",
    "    set = [5,4,3,7,2,9,6,5,10]\n",
    "    for i in range(len(set)):\n",
    "      bst.add(set[i])"
   ],
   "metadata": {
    "collapsed": false,
    "pycharm": {
     "name": "#%%\n"
    }
   }
  },
  {
   "cell_type": "code",
   "execution_count": null,
   "outputs": [],
   "source": [],
   "metadata": {
    "collapsed": false,
    "pycharm": {
     "name": "#%%\n"
    }
   }
  }
 ],
 "metadata": {
  "kernelspec": {
   "display_name": "Python 3",
   "language": "python",
   "name": "python3"
  },
  "language_info": {
   "codemirror_mode": {
    "name": "ipython",
    "version": 2
   },
   "file_extension": ".py",
   "mimetype": "text/x-python",
   "name": "python",
   "nbconvert_exporter": "python",
   "pygments_lexer": "ipython2",
   "version": "2.7.6"
  }
 },
 "nbformat": 4,
 "nbformat_minor": 0
}