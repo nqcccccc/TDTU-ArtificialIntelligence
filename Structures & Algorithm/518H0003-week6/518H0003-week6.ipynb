{
 "cells": [
  {
   "cell_type": "code",
   "execution_count": 2,
   "metadata": {
    "collapsed": true
   },
   "outputs": [
    {
     "name": "stdout",
     "output_type": "stream",
     "text": [
      "['1', '2', '3', '4']\n",
      "['1', '2', '4', '3']\n",
      "['1', '3', '2', '4']\n",
      "['1', '3', '4', '2']\n",
      "['1', '4', '2', '3']\n",
      "['1', '4', '3', '2']\n",
      "['2', '1', '3', '4']\n",
      "['2', '1', '4', '3']\n",
      "['2', '3', '1', '4']\n",
      "['2', '3', '4', '1']\n",
      "['2', '4', '1', '3']\n",
      "['2', '4', '3', '1']\n",
      "['3', '1', '2', '4']\n",
      "['3', '1', '4', '2']\n",
      "['3', '2', '1', '4']\n",
      "['3', '2', '4', '1']\n",
      "['3', '4', '1', '2']\n",
      "['3', '4', '2', '1']\n",
      "['4', '1', '2', '3']\n",
      "['4', '1', '3', '2']\n",
      "['4', '2', '1', '3']\n",
      "['4', '2', '3', '1']\n",
      "['4', '3', '1', '2']\n",
      "['4', '3', '2', '1']\n"
     ]
    }
   ],
   "source": [
    "def permutation(lst):\n",
    "\n",
    "    if len(lst) == 0:\n",
    "        return []\n",
    "\n",
    "    if len(lst) == 1:\n",
    "        return [lst]\n",
    "\n",
    "\n",
    "    l = []\n",
    "\n",
    "    for i in range(len(lst)):\n",
    "       m = lst[i]\n",
    "\n",
    "       remLst = lst[:i] + lst[i+1:]\n",
    "\n",
    "       for p in permutation(remLst):\n",
    "           l.append([m] + p)\n",
    "    return l\n",
    "\n",
    "\n",
    "data = list('1234')\n",
    "for p in permutation(data):\n",
    "    print(p)"
   ]
  },
  {
   "cell_type": "code",
   "execution_count": null,
   "outputs": [],
   "source": [],
   "metadata": {
    "collapsed": false,
    "pycharm": {
     "name": "#%%\n"
    }
   }
  }
 ],
 "metadata": {
  "kernelspec": {
   "display_name": "Python 3",
   "language": "python",
   "name": "python3"
  },
  "language_info": {
   "codemirror_mode": {
    "name": "ipython",
    "version": 2
   },
   "file_extension": ".py",
   "mimetype": "text/x-python",
   "name": "python",
   "nbconvert_exporter": "python",
   "pygments_lexer": "ipython2",
   "version": "2.7.6"
  }
 },
 "nbformat": 4,
 "nbformat_minor": 0
}