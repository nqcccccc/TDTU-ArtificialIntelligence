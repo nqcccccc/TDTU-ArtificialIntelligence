{
  "nbformat": 4,
  "nbformat_minor": 0,
  "metadata": {
    "colab": {
      "name": "AI-Lab5-A.ipynb",
      "provenance": []
    },
    "kernelspec": {
      "name": "python3",
      "display_name": "Python 3"
    },
    "language_info": {
      "name": "python"
    }
  },
  "cells": [
    {
      "cell_type": "code",
      "metadata": {
        "colab": {
          "base_uri": "https://localhost:8080/"
        },
        "id": "xj4DY8WUbcY3",
        "outputId": "ccc86424-004d-4f21-ecdf-22a876537f9f"
      },
      "source": [
        "import copy\n",
        "\n",
        "pacman_x, pacman_y = list(map(int, input().split()))\n",
        "food_x, food_y = list(map(int, input().split()))\n",
        "n, m = list(map(int, input().split()))\n",
        "grid = []\n",
        "queue = []\n",
        "answer_routes = None\n",
        "\n",
        "for i in range(0, n):\n",
        "    grid.append(list(map(str, input())))\n",
        "\n",
        "directions = [[-1, 0], [0, -1], [0, 1], [1, 0]]\n",
        "\n",
        "queue.append([pacman_x, pacman_y, [], 0])\n",
        "while len(queue) > 0:\n",
        "    x, y, r, score = queue.pop(0)\n",
        "    routes = copy.deepcopy(r)\n",
        "    routes.append([x, y])\n",
        "\n",
        "    if x == food_x and y == food_y:\n",
        "        if answer_routes == None:\n",
        "            answer_routes = routes\n",
        "            break\n",
        "\n",
        "    possible_moves = []\n",
        "    for direction in directions:\n",
        "        next_x, next_y = x + direction[0], y + direction[1]\n",
        "        if next_x < 0 or next_x >= n or next_y < 0 and next_y >= n:\n",
        "            continue\n",
        "\n",
        "        if grid[next_x][next_y] == \"-\" or grid[next_x][next_y] == \".\":\n",
        "            grid[next_x][next_y] = '='\n",
        "            possible_moves.append([next_x, next_y, score + abs(food_x - next_x) + abs(food_y - next_y)])\n",
        "            \n",
        "    possible_moves.sort(key = lambda x: x[2])\n",
        "    for move in possible_moves:\n",
        "        queue.append([move[0], move[1], routes, score])\n",
        "\n",
        "print(str(len(answer_routes) - 1))\n",
        "for point in answer_routes:\n",
        "    print(str(point[0]) + \" \" + str(point[1]))\n"
      ],
      "execution_count": 4,
      "outputs": [
        {
          "output_type": "stream",
          "name": "stdout",
          "text": [
            "3 9\n",
            "5 1\n",
            "7 20\n",
            "%%%%%%%%%%%%%%%%%%%%\n",
            "%--------------%---%\n",
            "%-%%-%%-%%-%%-%%-%-%\n",
            "%--------P-------%-%\n",
            "%%%%%%%%%%%%%%%%%%-%\n",
            "%.-----------------%\n",
            "%%%%%%%%%%%%%%%%%%%%\n",
            "32\n",
            "3 9\n",
            "3 10\n",
            "3 11\n",
            "3 12\n",
            "3 13\n",
            "3 14\n",
            "3 15\n",
            "3 16\n",
            "2 16\n",
            "1 16\n",
            "1 17\n",
            "1 18\n",
            "2 18\n",
            "3 18\n",
            "4 18\n",
            "5 18\n",
            "5 17\n",
            "5 16\n",
            "5 15\n",
            "5 14\n",
            "5 13\n",
            "5 12\n",
            "5 11\n",
            "5 10\n",
            "5 9\n",
            "5 8\n",
            "5 7\n",
            "5 6\n",
            "5 5\n",
            "5 4\n",
            "5 3\n",
            "5 2\n",
            "5 1\n"
          ]
        }
      ]
    }
  ]
}