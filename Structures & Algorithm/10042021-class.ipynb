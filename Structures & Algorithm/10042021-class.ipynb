{
 "cells": [
  {
   "cell_type": "code",
   "execution_count": null,
   "metadata": {
    "collapsed": true
   },
   "outputs": [],
   "source": [
    "class Graph:\n",
    "  def __init__(self,n):\n",
    "    self.V= n\n",
    "    #self.g= [[0 for r in range(n)] for c in range(n) ]\n",
    "    self.g= [[0]*n]*n\n",
    "\n",
    "if __name__==\"__main__\":\n",
    "  G= Graph(4)\n",
    "  a=[[0, 1, 1, 0],[1, 0, 0, 1],[1, 0, 0, 0],[0, 1, 0, 0]]\n",
    "  G.g= a\n",
    "  for i in range(G.V):\n",
    "    for j in range(G.V):\n",
    "      print(G.g[i][j], end= \" \")\n",
    "    print()\n",
    "\n",
    "'''\n",
    "1- Tính bậc của các đỉnh\n",
    "2- Tính tổng đường viền của ma trận\n",
    "3- DFS (đệ quy)\n",
    "4- BFS (đệ quy)\n",
    "'''\n",
    "\n",
    "def deg(self,i):\n",
    "def SumofMatrix(self):\n",
    "def DFS(self, i):\n",
    "def BFS(self, i)"
   ]
  }
 ],
 "metadata": {
  "kernelspec": {
   "display_name": "Python 3",
   "language": "python",
   "name": "python3"
  },
  "language_info": {
   "codemirror_mode": {
    "name": "ipython",
    "version": 2
   },
   "file_extension": ".py",
   "mimetype": "text/x-python",
   "name": "python",
   "nbconvert_exporter": "python",
   "pygments_lexer": "ipython2",
   "version": "2.7.6"
  }
 },
 "nbformat": 4,
 "nbformat_minor": 0
}