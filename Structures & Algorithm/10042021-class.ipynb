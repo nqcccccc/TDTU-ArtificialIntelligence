{
 "cells": [
  {
   "cell_type": "code",
   "execution_count": 91,
   "metadata": {
    "collapsed": true,
    "pycharm": {
     "name": "#%%\n"
    }
   },
   "outputs": [],
   "source": [
    "'''\n",
    "1- Tính bậc của các đỉnh\n",
    "2- Tính tổng đường viền của ma trận\n",
    "3- DFS (đệ quy)\n",
    "4- BFS (đệ quy)\n",
    "'''\n",
    "\n",
    "class Graph:\n",
    "    def __init__(self, n):\n",
    "        self.V = n\n",
    "        #self.g= [[0 for r in range(n)] for c in range(n) ]\n",
    "        self.g = [[0] * n] * n\n",
    "        self.visited = []\n",
    "        self.stack = []\n",
    "\n",
    "    def deg(self, i):\n",
    "        count = 0\n",
    "        for j in self.g[i]:\n",
    "            if j>0:\n",
    "                count+=1\n",
    "        return count\n",
    "\n",
    "    def sumofMatrix(self):\n",
    "        sum = 0\n",
    "        size = self.V\n",
    "\n",
    "        for i in range(size):\n",
    "            sum += self.g[0][i]\n",
    "            sum += self.g[size - 1][i]\n",
    "\n",
    "        for i in range(1, size - 1):\n",
    "            sum += self.g[i][0]\n",
    "            sum += self.g[i][size - 1]\n",
    "\n",
    "        return sum\n",
    "\n",
    "    def DFS(self, i):\n",
    "        if i not in self.visited:\n",
    "            self.visited.append(i)\n",
    "            print(i,end=' ')\n",
    "            for j in range(G.V - 1, -1, -1):\n",
    "                if self.g[i][j] > 0:\n",
    "                    self.DFS(j)\n",
    "\n",
    "    def BFS(self, i):\n",
    "        if len(self.visited) == G.V:\n",
    "            for i in self.visited:\n",
    "                print(i,end=' ')\n",
    "            self.visited = []\n",
    "            self.stack = []\n",
    "            return\n",
    "        if i not in self.visited:\n",
    "            self.visited.append(i)\n",
    "\n",
    "        for j in range(G.V):\n",
    "            if self.g[i][j] > 0:\n",
    "                self.stack.append(j)\n",
    "        next = self.stack.pop(0)\n",
    "        self.BFS(next)"
   ]
  },
  {
   "cell_type": "code",
   "execution_count": 92,
   "outputs": [
    {
     "name": "stdout",
     "output_type": "stream",
     "text": [
      "0 1 0 1 0 0 \n",
      "1 0 1 1 0 1 \n",
      "0 1 0 0 0 1 \n",
      "1 1 0 0 1 1 \n",
      "0 0 0 1 0 0 \n",
      "0 1 1 1 0 0 \n",
      "Degree of edge 3:  4\n",
      "Sum of matrix's edge:  10\n",
      "DFS\n",
      "0 3 5 2 1 4 \n",
      "BFS\n",
      "0 1 3 2 5 4 "
     ]
    }
   ],
   "source": [
    "G = Graph(6)\n",
    "a = [[0, 1, 0, 1, 0, 0],\n",
    "     [1, 0, 1, 1, 0, 1],\n",
    "     [0, 1, 0, 0, 0, 1],\n",
    "     [1, 1, 0, 0, 1, 1],\n",
    "     [0, 0, 0, 1, 0, 0],\n",
    "     [0, 1, 1, 1, 0, 0]]\n",
    "G.g = a\n",
    "for i in range(G.V):\n",
    "    for j in range(G.V):\n",
    "        print(G.g[i][j], end=' ')\n",
    "    print()\n",
    "\n",
    "print('Degree of edge 3: ',G.deg(3))\n",
    "\n",
    "print('Sum of matrix\\'s edge: ',G.sumofMatrix())\n",
    "\n",
    "print('DFS')\n",
    "G.DFS(0)\n",
    "print('\\nBFS')\n",
    "G.visited = []\n",
    "G.BFS(0)"
   ],
   "metadata": {
    "collapsed": false,
    "pycharm": {
     "name": "#%%\n"
    }
   }
  },
  {
   "cell_type": "code",
   "execution_count": 90,
   "outputs": [
    {
     "name": "stdout",
     "output_type": "stream",
     "text": [
      "Degree of edge 0:  2\n",
      "Sum of matrix's edge:  12\n"
     ]
    }
   ],
   "source": [
    "G1 = Graph(4)\n",
    "a1 = [[0, 1, 2, 0],\n",
    "     [1, 0, 0, 3],\n",
    "     [2, 0, 0, 0],\n",
    "     [0, 3, 0, 0]]\n",
    "\n",
    "G1.g = a1\n",
    "print('Degree of edge 0: ',G1.deg(0))\n",
    "\n",
    "print('Sum of matrix\\'s edge: ',G1.sumofMatrix())"
   ],
   "metadata": {
    "collapsed": false,
    "pycharm": {
     "name": "#%%\n"
    }
   }
  },
  {
   "cell_type": "code",
   "execution_count": null,
   "outputs": [],
   "source": [],
   "metadata": {
    "collapsed": false,
    "pycharm": {
     "name": "#%%\n"
    }
   }
  }
 ],
 "metadata": {
  "kernelspec": {
   "display_name": "Python 3",
   "language": "python",
   "name": "python3"
  },
  "language_info": {
   "codemirror_mode": {
    "name": "ipython",
    "version": 2
   },
   "file_extension": ".py",
   "mimetype": "text/x-python",
   "name": "python",
   "nbconvert_exporter": "python",
   "pygments_lexer": "ipython2",
   "version": "2.7.6"
  }
 },
 "nbformat": 4,
 "nbformat_minor": 0
}